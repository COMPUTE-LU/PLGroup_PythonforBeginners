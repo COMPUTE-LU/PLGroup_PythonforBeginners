{
  "nbformat": 4,
  "nbformat_minor": 0,
  "metadata": {
    "colab": {
      "name": "crash_python_trial2.ipynb",
      "provenance": [],
      "collapsed_sections": []
    },
    "kernelspec": {
      "display_name": "Python 3",
      "name": "python3"
    }
  },
  "cells": [
    {
      "cell_type": "markdown",
      "metadata": {
        "id": "OTnrfNPmcjmp"
      },
      "source": [
        "# Python for Beginners: Peer-Learning Kick-off\r\n",
        "### by Rafsan Ahmed\r\n"
      ]
    },
    {
      "cell_type": "markdown",
      "metadata": {
        "id": "1zoiLgtRnUvo"
      },
      "source": [
        "![](https://drive.google.com/uc?export=view&id=1XTHh451d04cwlLUYABFCg7LYDPjxZI4C)"
      ]
    },
    {
      "cell_type": "markdown",
      "metadata": {
        "id": "lr2JKY21aLUP"
      },
      "source": [
        "# Python?\r\n",
        "Python is a simple but powerful programming language that can be used to do almost anything. \r\n",
        "\r\n",
        "\r\n",
        "<img src=\"https://drive.google.com/uc?export=view&id=1V-kad_Mq8HCCvmDlhyohQvg2eY6zr0cH\" width=\"500\">  \r\n",
        "<sub><sup><sub><sup>©www.javatpoint.com</sup></sub></sup></sub>\r\n",
        "\r\n",
        "Python is...\r\n",
        "\r\n",
        "*   Very popular for data science.\r\n",
        "*   Used by companies like Google, Facebook, Instagram, Spotify etc...\r\n",
        "*   Has Packages that you can use.\r\n",
        "\r\n",
        "Packages are one of the best features of python. These are blocks of code people wrote and made available for others. Just like your Amazon package, which also uses python, you can reuse these packages freely.\r\n",
        "\r\n",
        "For example, if you want to work with some data analysis and make cool tables, you can use the \"pandas\" package 🐼\r\n"
      ]
    },
    {
      "cell_type": "markdown",
      "metadata": {
        "id": "JRGdli0FO0pv"
      },
      "source": [
        "# Then what is Colab?\r\n",
        "Colab is developed by Google to do machine learning stuff online.  \r\n",
        "\r\n",
        "You can run python on Colab, but you can also simply install it on your computer.\r\n",
        "\r\n",
        "In Colab, you can write code, press \"shift + enter\" and see results immidiately! "
      ]
    },
    {
      "cell_type": "markdown",
      "metadata": {
        "id": "X1VzCXIqciSs"
      },
      "source": [
        "# Part 1: Let's start out by writing your first python code\r\n",
        "### Type in \r\n",
        "```\r\n",
        "print('Hello World')\r\n",
        "```\r\n",
        "\r\n",
        "Then press shift+enter or clock the play button on the left of the cell. This executes the code in google colab."
      ]
    },
    {
      "cell_type": "code",
      "metadata": {
        "colab": {
          "base_uri": "https://localhost:8080/"
        },
        "id": "Ks7EC6XMpJyz",
        "outputId": "348b58f7-8d36-4424-c781-2632d1cd0d24"
      },
      "source": [
        "# This is a coding cell. Write your code below this line\r\n",
        "print(\"Hello World!\")"
      ],
      "execution_count": 1,
      "outputs": [
        {
          "output_type": "stream",
          "text": [
            "Hello World!\n"
          ],
          "name": "stdout"
        }
      ]
    },
    {
      "cell_type": "markdown",
      "metadata": {
        "id": "_ggGOL-2pLe8"
      },
      "source": [
        "### Yayy! You have written and ran your first code. Remember the keyword **\"print\"**"
      ]
    },
    {
      "cell_type": "markdown",
      "metadata": {
        "id": "2r5dQGQeQUKc"
      },
      "source": [
        "### Let's try to print something else. Let's print a number"
      ]
    },
    {
      "cell_type": "code",
      "metadata": {
        "colab": {
          "base_uri": "https://localhost:8080/"
        },
        "id": "ykdqYdUAQdUu",
        "outputId": "c1c09317-1050-4682-ad05-c13fc46c14cb"
      },
      "source": [
        "# Write your code below this line\r\n",
        "print(5)"
      ],
      "execution_count": 2,
      "outputs": [
        {
          "output_type": "stream",
          "text": [
            "5\n"
          ],
          "name": "stdout"
        }
      ]
    },
    {
      "cell_type": "markdown",
      "metadata": {
        "id": "JG3e-WpHQ-UJ"
      },
      "source": [
        "So, we can use the print function and print anything we want.  \r\n",
        "With python you can also add things.  \r\n",
        "Let's try adding two numbers 5 and 3"
      ]
    },
    {
      "cell_type": "code",
      "metadata": {
        "colab": {
          "base_uri": "https://localhost:8080/"
        },
        "id": "wbRS0ZpGRVwp",
        "outputId": "6813f8de-f02b-40e0-acbe-42d70dd7f1fd"
      },
      "source": [
        "# write your code below this line\r\n",
        "print(5 + 3)"
      ],
      "execution_count": 3,
      "outputs": [
        {
          "output_type": "stream",
          "text": [
            "8\n"
          ],
          "name": "stdout"
        }
      ]
    },
    {
      "cell_type": "markdown",
      "metadata": {
        "id": "PzY68_bBRqPM"
      },
      "source": [
        "### How about some other math operation? Like multiplication?  \r\n",
        "*  For multiplication we use the symbol \"*\" (star)  \r\n",
        "*  Similarly, for division we can use the symbol \"/\" (slash?)\r\n",
        "\r\n",
        "Let's try multiplying 5 and 3"
      ]
    },
    {
      "cell_type": "code",
      "metadata": {
        "colab": {
          "base_uri": "https://localhost:8080/"
        },
        "id": "RwaQQZcASSDZ",
        "outputId": "89d69b80-deea-4e09-f286-c88e116457be"
      },
      "source": [
        "# write your code below this line\r\n",
        "print(5 * 3)"
      ],
      "execution_count": 4,
      "outputs": [
        {
          "output_type": "stream",
          "text": [
            "15\n"
          ],
          "name": "stdout"
        }
      ]
    },
    {
      "cell_type": "markdown",
      "metadata": {
        "id": "A9sjeWO_Snaz"
      },
      "source": [
        "Let's try division then. Let's divide 100 by 5"
      ]
    },
    {
      "cell_type": "code",
      "metadata": {
        "colab": {
          "base_uri": "https://localhost:8080/"
        },
        "id": "sJBIf3bzSpxJ",
        "outputId": "ab52d28c-e0aa-4e0c-ae7d-0892b5866d7f"
      },
      "source": [
        "# write your code below this line\r\n",
        "print(100 / 5)"
      ],
      "execution_count": 5,
      "outputs": [
        {
          "output_type": "stream",
          "text": [
            "20.0\n"
          ],
          "name": "stdout"
        }
      ]
    },
    {
      "cell_type": "markdown",
      "metadata": {
        "id": "qeCoHbXPS25x"
      },
      "source": [
        "## Awesome! We just finished our first part!\r\n",
        "\r\n",
        "To summerize, we learned the following:\r\n",
        "\r\n",
        "*   How to print something in python and get a result.\r\n",
        "*   How to use math operations.\r\n",
        "\r\n",
        "We will take a 2 minute break. You can ask your questions now!\r\n",
        "\r\n",
        "\r\n",
        "\r\n",
        "---\r\n",
        "\r\n",
        "\r\n",
        "---\r\n",
        "\r\n",
        "\r\n",
        "\r\n",
        "\r\n",
        "\r\n",
        "\r\n",
        "\r\n",
        "\r\n"
      ]
    },
    {
      "cell_type": "markdown",
      "metadata": {
        "id": "xyMaWBuhpu5Z"
      },
      "source": [
        "# Part 2: Now let's declare some variables...\r\n",
        "In python, you can pick letters or words and assign stuff to them.\r\n",
        "\r\n",
        "For example, we can write\r\n",
        "\r\n",
        "```\r\n",
        "x = 10\r\n",
        "```\r\n",
        "\r\n",
        "Once we code this, the letter x will keep the value of 10.\r\n",
        "\r\n",
        "Let's try this out then. Let's put the number 10 to x and the number 5 to y."
      ]
    },
    {
      "cell_type": "code",
      "metadata": {
        "id": "QRgEdYC6puQe"
      },
      "source": [
        "# write your code below this line\r\n",
        "x = 10\r\n",
        "y = 5"
      ],
      "execution_count": 6,
      "outputs": []
    },
    {
      "cell_type": "markdown",
      "metadata": {
        "id": "yRamevy2VQbk"
      },
      "source": [
        "Let's check the results"
      ]
    },
    {
      "cell_type": "code",
      "metadata": {
        "colab": {
          "base_uri": "https://localhost:8080/"
        },
        "id": "kJBP_QnSqQL2",
        "outputId": "000b14a7-a44d-48cf-d9ae-375511468a49"
      },
      "source": [
        "# write your code below this line: check the value of x\r\n",
        "print(x)"
      ],
      "execution_count": 7,
      "outputs": [
        {
          "output_type": "stream",
          "text": [
            "10\n"
          ],
          "name": "stdout"
        }
      ]
    },
    {
      "cell_type": "code",
      "metadata": {
        "colab": {
          "base_uri": "https://localhost:8080/"
        },
        "id": "EZbe9UuRqQoS",
        "outputId": "80090fe8-139a-4406-d46d-a602195100b9"
      },
      "source": [
        "# write your code below this line: check the value of y\r\n",
        "print(y)"
      ],
      "execution_count": 8,
      "outputs": [
        {
          "output_type": "stream",
          "text": [
            "5\n"
          ],
          "name": "stdout"
        }
      ]
    },
    {
      "cell_type": "markdown",
      "metadata": {
        "id": "S4NR_GMfcO3W"
      },
      "source": [
        "Now let's add them just like we did before."
      ]
    },
    {
      "cell_type": "code",
      "metadata": {
        "colab": {
          "base_uri": "https://localhost:8080/"
        },
        "id": "ET2XabgjqRzq",
        "outputId": "1e31d616-a290-4425-e550-e21567ef62b5"
      },
      "source": [
        "# Write your code to add x + y below this line\r\n",
        "print(x + y)"
      ],
      "execution_count": 9,
      "outputs": [
        {
          "output_type": "stream",
          "text": [
            "15\n"
          ],
          "name": "stdout"
        }
      ]
    },
    {
      "cell_type": "markdown",
      "metadata": {
        "id": "ea8WcvjohBua"
      },
      "source": [
        "If you want to change the value of a x to another number, say 100, you can do the same thing again"
      ]
    },
    {
      "cell_type": "code",
      "metadata": {
        "colab": {
          "base_uri": "https://localhost:8080/"
        },
        "id": "w2l2zQLyhKzD",
        "outputId": "337d2a45-24fe-4b82-9ac4-79b38fcd40fd"
      },
      "source": [
        "# write your code in the line below\r\n",
        "x = 100\r\n",
        "print(x + y)"
      ],
      "execution_count": 10,
      "outputs": [
        {
          "output_type": "stream",
          "text": [
            "105\n"
          ],
          "name": "stdout"
        }
      ]
    },
    {
      "cell_type": "markdown",
      "metadata": {
        "id": "6x0oiGBWqTXy"
      },
      "source": [
        "### What we just did is called **variable assignment or declaration**. \r\n",
        "Fancy term but this is just simple algebra like before.\r\n"
      ]
    },
    {
      "cell_type": "markdown",
      "metadata": {
        "id": "4g5cwFMyflZm"
      },
      "source": [
        "You can pick the name of the variables freely. For example, you can give them the name of fruits, if we want to add their prices.\r\n",
        "\r\n",
        "Let's say we have:\r\n",
        "\r\n",
        "\r\n",
        "*   Apples for 2.5 dollars per kilo\r\n",
        "*   Oranges for 3.2 dollars per kilo and\r\n",
        "*   Watermelon for 1.0 dollars per kilo\r\n",
        "\r\n",
        "\r\n",
        "Let's calculate the cost for shopping 5 kilos of apples, 2 kilos of oranges and a 5 kilo watermelon."
      ]
    },
    {
      "cell_type": "markdown",
      "metadata": {
        "id": "EZKYweFqniHl"
      },
      "source": [
        "### How do we do this?"
      ]
    },
    {
      "cell_type": "markdown",
      "metadata": {
        "id": "gwNJUrT1fN33"
      },
      "source": [
        "Let's first try declaring a variable \"apple\" and assign it the price"
      ]
    },
    {
      "cell_type": "code",
      "metadata": {
        "id": "ZFSV9doStGWV"
      },
      "source": [
        "# Now we are in a coding cell. Let's start by declaring the price for apple\r\n",
        "apple = 2.5\r\n"
      ],
      "execution_count": 11,
      "outputs": []
    },
    {
      "cell_type": "markdown",
      "metadata": {
        "id": "uKIx_5xVfuwG"
      },
      "source": [
        "Did it work correctly? You can test if the code ran correctly by printing a variable."
      ]
    },
    {
      "cell_type": "code",
      "metadata": {
        "colab": {
          "base_uri": "https://localhost:8080/"
        },
        "id": "0CUnCVPyfNCx",
        "outputId": "2ad710bc-830b-45c7-bdf1-9aa44b314947"
      },
      "source": [
        "# write your code in the line below\r\n",
        "print(apple)"
      ],
      "execution_count": 12,
      "outputs": [
        {
          "output_type": "stream",
          "text": [
            "2.5\n"
          ],
          "name": "stdout"
        }
      ]
    },
    {
      "cell_type": "markdown",
      "metadata": {
        "id": "QVY2kB0GgDrP"
      },
      "source": [
        "Great! Let's assign the other two variables then."
      ]
    },
    {
      "cell_type": "code",
      "metadata": {
        "id": "Bhk_8fJegJec"
      },
      "source": [
        "# write your code in the line below\r\n",
        "orange = 3.2\r\n",
        "watermelon = 1.0"
      ],
      "execution_count": 13,
      "outputs": []
    },
    {
      "cell_type": "markdown",
      "metadata": {
        "id": "DT4Vr2FMgZfK"
      },
      "source": [
        "Now let's create a new variable to calculate the total cost of 5 kilos of apples, 2 kilos of oranges and a 5 kilo watermelon:"
      ]
    },
    {
      "cell_type": "code",
      "metadata": {
        "id": "AiajEFzQtiN9",
        "colab": {
          "base_uri": "https://localhost:8080/"
        },
        "outputId": "0429ed4d-2d7d-43c8-f327-a2d83c588364"
      },
      "source": [
        "# Now let's calculate the total cost\r\n",
        "total_cost = apple * 5 + orange * 2 + watermelon * 5\r\n",
        "print(total_cost)\r\n"
      ],
      "execution_count": 14,
      "outputs": [
        {
          "output_type": "stream",
          "text": [
            "23.9\n"
          ],
          "name": "stdout"
        }
      ]
    },
    {
      "cell_type": "markdown",
      "metadata": {
        "id": "_DumSHZkh81D"
      },
      "source": [
        "## The practice is done. Let's test your knowledge, shall we?\r\n",
        "\r\n",
        "Let's do something useful. You will calculate the area rectangles\r\n",
        "\r\n",
        "<img src=\"https://drive.google.com/uc?export=view&id=1UvNpBYTU9UUDtAeijlFnrVQIPgDiT-Mw\" width=\"500\">  \r\n",
        "<sub><sup><sub><sup>©www.mathswithmum.com</sup></sub></sup></sub>\r\n",
        "\r\n",
        "We know that the area is simply base x height\r\n",
        "\r\n",
        "So, for this rectangle, the area will be 9 x 4 = 36\r\n",
        "\r\n"
      ]
    },
    {
      "cell_type": "markdown",
      "metadata": {
        "id": "O43OMT7nnjlo"
      },
      "source": [
        "### Now, let's say you have two rectangles\r\n",
        "\r\n",
        "For the first rectangle:\r\n",
        "\r\n",
        "*   Base is 5\r\n",
        "*   Height is 10\r\n",
        "\r\n",
        "And for the second rectangle:\r\n",
        "\r\n",
        "*   Base is 3\r\n",
        "*   Height is 2\r\n",
        "\r\n",
        "Calculate the total area of the two rectangles\r\n",
        "\r\n"
      ]
    },
    {
      "cell_type": "code",
      "metadata": {
        "colab": {
          "base_uri": "https://localhost:8080/"
        },
        "id": "eUCZkkw7oTiQ",
        "outputId": "32e9134e-6db2-4182-cc1b-9556ba8062af"
      },
      "source": [
        "# write your code in the line below.\r\n",
        "# declare your variables first\r\n",
        "base1 = 5\r\n",
        "height1 = 10\r\n",
        "\r\n",
        "area1 = base1 * height1\r\n",
        "\r\n",
        "base2 = 3\r\n",
        "height2 = 2\r\n",
        "\r\n",
        "area2 = base2 * height2\r\n",
        "\r\n",
        "\r\n",
        "# then use the formula for area to calculate the total_area of two rectangles\r\n",
        "total_area = area1 + area2\r\n",
        "print(total_area)\r\n"
      ],
      "execution_count": 15,
      "outputs": [
        {
          "output_type": "stream",
          "text": [
            "56\n"
          ],
          "name": "stdout"
        }
      ]
    },
    {
      "cell_type": "markdown",
      "metadata": {
        "id": "NS9IM_2_raBE"
      },
      "source": [
        "# PERFECT! \r\n",
        "### This is basically what you learn in your first day of python class!\r\n",
        "\r\n",
        "\r\n",
        "To summerize, we learned the following:\r\n",
        "\r\n",
        "*   How to use variables\r\n",
        "*   How to use math operations with variables\r\n",
        "*   Write your own code using variables\r\n",
        "\r\n",
        "We will do some Q&A then take a coffee break 😃\r\n",
        "\r\n",
        "---\r\n",
        "\r\n",
        "---\r\n",
        "\r\n",
        "\r\n",
        "\r\n"
      ]
    },
    {
      "cell_type": "markdown",
      "metadata": {
        "id": "9fgf8Kg11fsW"
      },
      "source": [
        "# Part 3: Strings and more!\r\n",
        "Just like numbers, we can declare characters like 'a', 'b', 'c' or  \r\n",
        "string of characters (string in short) like \"Hello World!\" or \"This is a very interesting course!\"\r\n",
        "\r\n",
        "String == text\r\n",
        "\r\n",
        "For strings we always use quotations \" \"  \r\n",
        "\r\n",
        "Let's try this by declaring a simple string variable:"
      ]
    },
    {
      "cell_type": "code",
      "metadata": {
        "colab": {
          "base_uri": "https://localhost:8080/"
        },
        "id": "7bpdCP8Au3Pb",
        "outputId": "500fc31a-5585-4c4b-b334-95873fc6d859"
      },
      "source": [
        "# Write your greeting code below\r\n",
        "greeting = \"Hello World!\"\r\n",
        "print(greeting)"
      ],
      "execution_count": 18,
      "outputs": [
        {
          "output_type": "stream",
          "text": [
            "Hello World!\n"
          ],
          "name": "stdout"
        }
      ]
    },
    {
      "cell_type": "markdown",
      "metadata": {
        "id": "I132synHvbRx"
      },
      "source": [
        "Try it yourself:"
      ]
    },
    {
      "cell_type": "code",
      "metadata": {
        "colab": {
          "base_uri": "https://localhost:8080/"
        },
        "id": "IZ7so6QJxc8Q",
        "outputId": "b4866d6f-8809-46dd-9fcc-4d91fb35aa22"
      },
      "source": [
        "# Write down a message and print it below 😃\r\n",
        "message = \"Merry Christmas!\"\r\n",
        "print(message)"
      ],
      "execution_count": 19,
      "outputs": [
        {
          "output_type": "stream",
          "text": [
            "Merry Christmas!\n"
          ],
          "name": "stdout"
        }
      ]
    },
    {
      "cell_type": "markdown",
      "metadata": {
        "id": "VLw1WTnswHoT"
      },
      "source": [
        "When we add two numbers, we get a sum.\r\n",
        "\r\n",
        "So what happens when we add two strings?\r\n",
        "\r\n",
        "Let's use two words \"apple\" and \"orange\" and add them together"
      ]
    },
    {
      "cell_type": "code",
      "metadata": {
        "colab": {
          "base_uri": "https://localhost:8080/"
        },
        "id": "CqRTmFChwMEe",
        "outputId": "ef8ec13f-3b77-4e96-9ed1-615798b47b4a"
      },
      "source": [
        "# write down your code below\r\n",
        "print(\"apple\" + \"orange\")"
      ],
      "execution_count": 20,
      "outputs": [
        {
          "output_type": "stream",
          "text": [
            "appleorange\n"
          ],
          "name": "stdout"
        }
      ]
    },
    {
      "cell_type": "markdown",
      "metadata": {
        "id": "a2gj8ESnx2s8"
      },
      "source": [
        "Interesting... what if we add string and a number?\r\n",
        "\r\n",
        "Let's try adding the word \"Pear\" and the number 4"
      ]
    },
    {
      "cell_type": "code",
      "metadata": {
        "colab": {
          "base_uri": "https://localhost:8080/",
          "height": 178
        },
        "id": "ARUyWDIGx-j4",
        "outputId": "48cd529b-7e11-4065-9f6c-c860c32a674f"
      },
      "source": [
        "# write your code below\r\n",
        "print(\"pear\" + 4)"
      ],
      "execution_count": 21,
      "outputs": [
        {
          "output_type": "error",
          "ename": "TypeError",
          "evalue": "ignored",
          "traceback": [
            "\u001b[0;31m---------------------------------------------------------------------------\u001b[0m",
            "\u001b[0;31mTypeError\u001b[0m                                 Traceback (most recent call last)",
            "\u001b[0;32m<ipython-input-21-92e5b79aacea>\u001b[0m in \u001b[0;36m<module>\u001b[0;34m()\u001b[0m\n\u001b[1;32m      1\u001b[0m \u001b[0;31m# write your code below\u001b[0m\u001b[0;34m\u001b[0m\u001b[0;34m\u001b[0m\u001b[0;34m\u001b[0m\u001b[0m\n\u001b[0;32m----> 2\u001b[0;31m \u001b[0mprint\u001b[0m\u001b[0;34m(\u001b[0m\u001b[0;34m\"pear\"\u001b[0m \u001b[0;34m+\u001b[0m \u001b[0;36m4\u001b[0m\u001b[0;34m)\u001b[0m\u001b[0;34m\u001b[0m\u001b[0;34m\u001b[0m\u001b[0m\n\u001b[0m",
            "\u001b[0;31mTypeError\u001b[0m: must be str, not int"
          ]
        }
      ]
    },
    {
      "cell_type": "markdown",
      "metadata": {
        "id": "bFQa1SGmxLxi"
      },
      "source": [
        "So, as you may have noticed, different variables have different types.\r\n",
        "Sometimes, different types of variables cannot be added.\r\n",
        "\r\n",
        "* 1, 2, 3 are whole numbers and called integers (int for short)\r\n",
        "* 1.3, 2.5, 3.6666666... are floating point numbers (float for short)\r\n",
        "* \"This seems kinda sus\" is a string.\r\n",
        "\r\n",
        "## Then how can we add a number and a string together?\r\n",
        "we can convert a number to string and vice versa  \r\n",
        "\r\n",
        "* To convert anything to a string we can use the function str()\r\n",
        "* To convert a string to an integer we can use the function int()\r\n",
        "\r\n",
        "\r\n",
        "Let's see the same example with \"Pear\" and number 4"
      ]
    },
    {
      "cell_type": "code",
      "metadata": {
        "colab": {
          "base_uri": "https://localhost:8080/"
        },
        "id": "29OI6J-AH86O",
        "outputId": "ba4b0c04-daff-4ffb-b7db-30fe6fd8a09c"
      },
      "source": [
        "# Write your code below\r\n",
        "print(\"pear\" + str(4) )"
      ],
      "execution_count": 22,
      "outputs": [
        {
          "output_type": "stream",
          "text": [
            "pear4\n"
          ],
          "name": "stdout"
        }
      ]
    },
    {
      "cell_type": "code",
      "metadata": {
        "colab": {
          "base_uri": "https://localhost:8080/"
        },
        "id": "lKQzyHwpnUGO",
        "outputId": "be4f9db8-8a93-4c62-c8af-7749d8eab0cf"
      },
      "source": [
        "# write your code below\r\n",
        "print(int(\"100\") + 4)"
      ],
      "execution_count": 24,
      "outputs": [
        {
          "output_type": "stream",
          "text": [
            "104\n"
          ],
          "name": "stdout"
        }
      ]
    },
    {
      "cell_type": "markdown",
      "metadata": {
        "id": "SLxdJjymQKVO"
      },
      "source": [
        "### Now try it yourself\r\n",
        "add the numbers 3 and \"10\". Both as numbers."
      ]
    },
    {
      "cell_type": "code",
      "metadata": {
        "colab": {
          "base_uri": "https://localhost:8080/"
        },
        "id": "uFFalVMqQVIm",
        "outputId": "0dc00b22-f912-46fa-9719-7689f54f56bb"
      },
      "source": [
        "# write your code below\r\n",
        "num1 = 3\r\n",
        "string1 = \"10\"\r\n",
        "\r\n",
        "print(num1 + int(string1))\r\n"
      ],
      "execution_count": 25,
      "outputs": [
        {
          "output_type": "stream",
          "text": [
            "13\n"
          ],
          "name": "stdout"
        }
      ]
    },
    {
      "cell_type": "code",
      "metadata": {
        "colab": {
          "base_uri": "https://localhost:8080/"
        },
        "id": "1Mr5XQeT7V8n",
        "outputId": "865e22ed-5df2-4ca5-9b44-af7bb34af8fe"
      },
      "source": [
        "num1 = 10\r\n",
        "print(\"10\")"
      ],
      "execution_count": 27,
      "outputs": [
        {
          "output_type": "stream",
          "text": [
            "10\n"
          ],
          "name": "stdout"
        }
      ]
    },
    {
      "cell_type": "markdown",
      "metadata": {
        "id": "Ze3sEU-zcAM7"
      },
      "source": [
        "Now let's try adding them as strings"
      ]
    },
    {
      "cell_type": "code",
      "metadata": {
        "colab": {
          "base_uri": "https://localhost:8080/"
        },
        "id": "SNI_fRCfcFFD",
        "outputId": "90deceeb-bf5d-4d26-a015-82869495378d"
      },
      "source": [
        "# write your code below\r\n",
        "num1 = 3\r\n",
        "string1 = \"10\"\r\n",
        "\r\n",
        "print(str(num1) + string1)"
      ],
      "execution_count": 28,
      "outputs": [
        {
          "output_type": "stream",
          "text": [
            "310\n"
          ],
          "name": "stdout"
        }
      ]
    },
    {
      "cell_type": "markdown",
      "metadata": {
        "id": "_hn9aA5PbF6O"
      },
      "source": [
        "### That's it. That's the end of part 3!\r\n",
        "\r\n",
        "To summerize, we learned the following:\r\n",
        "\r\n",
        "*   How to use strings\r\n",
        "*   How to add strings\r\n",
        "*   Different data types\r\n",
        "*   Write your convert strings to integers and vice versa\r\n",
        "\r\n",
        "Let's have a small Q&A and take a break\r\n",
        "\r\n",
        "\r\n",
        "\r\n",
        "---\r\n",
        "\r\n",
        "---\r\n",
        "\r\n",
        "\r\n",
        "\r\n"
      ]
    },
    {
      "cell_type": "markdown",
      "metadata": {
        "id": "JPIyqtEvu9tG"
      },
      "source": [
        "# Part 4: Functions!\r\n",
        "\r\n",
        "When we used codes like:\r\n",
        "\r\n",
        "* print()\r\n",
        "* str()\r\n",
        "* int()\r\n",
        "\r\n",
        "These are functions.\r\n",
        "\r\n",
        "\r\n",
        "So what is a function?  \r\n",
        "It is a chunk of reusable code that does something. It takes an input, processes it then gives us an output\r\n",
        "\r\n",
        "<img src=\"https://drive.google.com/uc?export=view&id=1rHeodA2SSWs35xBVo0m-ghOCiK2UpjnE\" width=\"300\">"
      ]
    },
    {
      "cell_type": "markdown",
      "metadata": {
        "id": "PdsspidwdUWX"
      },
      "source": [
        "Let me introduce you to a new function called \r\n",
        "* input()\r\n",
        "\r\n",
        "It asks the user to enter a value and stores the value as a string"
      ]
    },
    {
      "cell_type": "code",
      "metadata": {
        "colab": {
          "base_uri": "https://localhost:8080/"
        },
        "id": "tOw9UPbSwFY3",
        "outputId": "40a465f3-b797-4763-83f0-4001603b61d0"
      },
      "source": [
        "# Let's declare a variable name using this input function\r\n",
        "name = input(\"Enter name: \")\r\n",
        "print(\"hello \" + name)"
      ],
      "execution_count": 30,
      "outputs": [
        {
          "output_type": "stream",
          "text": [
            "Enter name: tish\n",
            "hello tish\n"
          ],
          "name": "stdout"
        }
      ]
    },
    {
      "cell_type": "markdown",
      "metadata": {
        "id": "2gJS488_dqb0"
      },
      "source": [
        "Pretty cool right? This means that, now you know how to ask a user for something.   \r\n",
        "\r\n",
        "Try it yourself. Using the input function, ask for a name, for example: Bart\r\n",
        "\r\n",
        "and print \"Bart is a student at Lund University\""
      ]
    },
    {
      "cell_type": "code",
      "metadata": {
        "id": "ybSrqqT2iM1P",
        "colab": {
          "base_uri": "https://localhost:8080/"
        },
        "outputId": "2471395e-0038-45f3-8f56-01cd6d43a305"
      },
      "source": [
        "# Write your code below:\r\n",
        "name = input(\"Enter your name: \")\r\n",
        "print(name + \" is a student at Lund University\")\r\n"
      ],
      "execution_count": 31,
      "outputs": [
        {
          "output_type": "stream",
          "text": [
            "Enter your name: Bart\n",
            "Bart is a student at Lund University\n"
          ],
          "name": "stdout"
        }
      ]
    },
    {
      "cell_type": "markdown",
      "metadata": {
        "id": "5gJXvKKveZhW"
      },
      "source": [
        "Now let's use the input function to get two numbers from the user and add them"
      ]
    },
    {
      "cell_type": "code",
      "metadata": {
        "colab": {
          "base_uri": "https://localhost:8080/"
        },
        "id": "hF1kGcqfefnd",
        "outputId": "6237337f-6afb-46c1-ee99-6492f41bef43"
      },
      "source": [
        "# write your code below\r\n",
        "num1 = input(\"Enter the first number: \")\r\n",
        "num2 = input(\"Enter the second number: \")\r\n",
        "print(int(num1) + float(num2))"
      ],
      "execution_count": 35,
      "outputs": [
        {
          "output_type": "stream",
          "text": [
            "Enter the first number: 10\n",
            "Enter the second number: 5.5\n",
            "15.5\n"
          ],
          "name": "stdout"
        }
      ]
    },
    {
      "cell_type": "markdown",
      "metadata": {
        "id": "ySpmrAjG6msJ"
      },
      "source": [
        "Great! Now let's create our own function.  \r\n",
        "\r\n",
        "A function can be defined using the keyword \"def\"\r\n",
        "\r\n",
        "\r\n",
        "```\r\n",
        "def function_name(the_input):\r\n",
        "    do something with the input\r\n",
        "    return the_output\r\n",
        "```\r\n",
        "\r\n",
        "\r\n",
        "To receive an output from the function, we will use a keyword **\"return\"**\r\n",
        "\r\n",
        "\r\n",
        "Now, lets write something that lets us add two numbers 10 and 15\r\n",
        "\r\n"
      ]
    },
    {
      "cell_type": "code",
      "metadata": {
        "colab": {
          "base_uri": "https://localhost:8080/"
        },
        "id": "SKIuOYcrfbiS",
        "outputId": "bd55b7c0-a8d0-4f9f-e480-a764da643eb2"
      },
      "source": [
        "# You already know how to add two numbers\r\n",
        "total = 10 + 15\r\n",
        "print(total)\r\n",
        "\r\n"
      ],
      "execution_count": 36,
      "outputs": [
        {
          "output_type": "stream",
          "text": [
            "25\n"
          ],
          "name": "stdout"
        }
      ]
    },
    {
      "cell_type": "code",
      "metadata": {
        "id": "TC9IscphftYb"
      },
      "source": [
        "# Let's create a function \"add\" below\r\n",
        "\r\n",
        "def add(a, b):\r\n",
        "  print(a + b)"
      ],
      "execution_count": 2,
      "outputs": []
    },
    {
      "cell_type": "code",
      "metadata": {
        "colab": {
          "base_uri": "https://localhost:8080/"
        },
        "id": "8XgoAJkfAa6V",
        "outputId": "29299720-e2eb-4481-a0e1-deabaf384ffb"
      },
      "source": [
        "add(5,3)\r\n"
      ],
      "execution_count": 3,
      "outputs": [
        {
          "output_type": "stream",
          "text": [
            "8\n"
          ],
          "name": "stdout"
        }
      ]
    },
    {
      "cell_type": "code",
      "metadata": {
        "id": "JEjc4AMcBIIf"
      },
      "source": [
        "def add2 (a, b):\r\n",
        "  return a + b"
      ],
      "execution_count": 40,
      "outputs": []
    },
    {
      "cell_type": "code",
      "metadata": {
        "colab": {
          "base_uri": "https://localhost:8080/"
        },
        "id": "A_l7dJzjBN7n",
        "outputId": "3dc40e34-4dfc-4561-f475-b06e4df110b8"
      },
      "source": [
        "total = add2(5,3)\r\n",
        "print(total)"
      ],
      "execution_count": 42,
      "outputs": [
        {
          "output_type": "stream",
          "text": [
            "8\n"
          ],
          "name": "stdout"
        }
      ]
    },
    {
      "cell_type": "markdown",
      "metadata": {
        "id": "63VqOJ55gFpI"
      },
      "source": [
        "Let's use the function to add two numbers"
      ]
    },
    {
      "cell_type": "code",
      "metadata": {
        "colab": {
          "base_uri": "https://localhost:8080/"
        },
        "id": "Pb-dbnGjgCDn",
        "outputId": "45c4146f-648f-4042-e708-330023e4f406"
      },
      "source": [
        "# write your code below\r\n",
        "num1 = 10\r\n",
        "num2 = 15\r\n",
        "\r\n",
        "add(num1, num2)"
      ],
      "execution_count": 45,
      "outputs": [
        {
          "output_type": "stream",
          "text": [
            "25\n"
          ],
          "name": "stdout"
        }
      ]
    },
    {
      "cell_type": "markdown",
      "metadata": {
        "id": "OtMJE-m_iihz"
      },
      "source": [
        "Let's change the numbers to 100 and 200"
      ]
    },
    {
      "cell_type": "code",
      "metadata": {
        "colab": {
          "base_uri": "https://localhost:8080/"
        },
        "id": "5C_W-WUhin3k",
        "outputId": "1c13b710-534d-4c97-be9a-1bf6178629cc"
      },
      "source": [
        "# write your code below\r\n",
        "num1 = 100\r\n",
        "num2 = 200\r\n",
        "\r\n",
        "add(num1, num2)"
      ],
      "execution_count": 46,
      "outputs": [
        {
          "output_type": "stream",
          "text": [
            "300\n"
          ],
          "name": "stdout"
        }
      ]
    },
    {
      "cell_type": "markdown",
      "metadata": {
        "id": "5_LjmI7UiApu"
      },
      "source": [
        "### Great! Let's try this again. \r\n",
        "Let's calculate the product of two numbers 5 and 3"
      ]
    },
    {
      "cell_type": "code",
      "metadata": {
        "id": "1op3xvzCzBAf"
      },
      "source": [
        "# First let's see how we can get the product of two numbers in a simple way\r\n",
        "# Let's say the numbers are 5 and 3\r\n",
        "product = 5 * 3\r\n",
        "print(product)"
      ],
      "execution_count": null,
      "outputs": []
    },
    {
      "cell_type": "markdown",
      "metadata": {
        "id": "haDKt1NqiMei"
      },
      "source": [
        "Now define a function called calc_product  \r\n",
        "\r\n",
        "Again, we define a function using the keyword \"def\""
      ]
    },
    {
      "cell_type": "code",
      "metadata": {
        "id": "di245HHF7MYp"
      },
      "source": [
        "# write your code below\r\n",
        "\r\n",
        "def calc_product(a,b):\r\n",
        "  \r\n",
        "  product = a * b\r\n",
        "  return product\r\n",
        "\r\n"
      ],
      "execution_count": 47,
      "outputs": []
    },
    {
      "cell_type": "markdown",
      "metadata": {
        "id": "mrikAD8jjugS"
      },
      "source": [
        "Use the function to get the product of two numbers 5 and 3"
      ]
    },
    {
      "cell_type": "code",
      "metadata": {
        "colab": {
          "base_uri": "https://localhost:8080/"
        },
        "id": "GikGnE4M7qSX",
        "outputId": "140006fc-2efa-4eea-ac0d-06bb3e8d35e5"
      },
      "source": [
        "# write your code below\r\n",
        "calc_product (5,3)"
      ],
      "execution_count": 48,
      "outputs": [
        {
          "output_type": "execute_result",
          "data": {
            "text/plain": [
              "15"
            ]
          },
          "metadata": {
            "tags": []
          },
          "execution_count": 48
        }
      ]
    },
    {
      "cell_type": "markdown",
      "metadata": {
        "id": "8y8-xV0xj2J9"
      },
      "source": [
        "Now use the same function to get the product of different numbers, say 50 and 40"
      ]
    },
    {
      "cell_type": "code",
      "metadata": {
        "colab": {
          "base_uri": "https://localhost:8080/"
        },
        "id": "c1p27WuqJCdP",
        "outputId": "bf018659-7752-4c52-c64d-e44d0489d28b"
      },
      "source": [
        "# write your code below\r\n",
        "calc_product(50,40)"
      ],
      "execution_count": 49,
      "outputs": [
        {
          "output_type": "execute_result",
          "data": {
            "text/plain": [
              "2000"
            ]
          },
          "metadata": {
            "tags": []
          },
          "execution_count": 49
        }
      ]
    },
    {
      "cell_type": "markdown",
      "metadata": {
        "id": "XHrSwrr9H-i7"
      },
      "source": [
        "Now as our final excercise, let's write a function called \"intro\" where you enter your name and the country you are from. Then it prints out a message like:  \r\n",
        "```\r\n",
        "\"Hi! My name is Anna. I am from Finland.\"\r\n",
        "```"
      ]
    },
    {
      "cell_type": "code",
      "metadata": {
        "id": "p9laDw2SKask"
      },
      "source": [
        "# Define your function below\r\n",
        "def intro(name, country):\r\n",
        "  # enter code here\r\n",
        "  return \"Hi! My name is \" + name + \". I am from \" + country + \".\" "
      ],
      "execution_count": 50,
      "outputs": []
    },
    {
      "cell_type": "code",
      "metadata": {
        "id": "nOeiTiOuKeLB",
        "colab": {
          "base_uri": "https://localhost:8080/"
        },
        "outputId": "b9ef22a5-11e6-4f2b-c3c8-9423eaddb8e7"
      },
      "source": [
        "# Execute the code below to print the message. use input() to get values from user\r\n",
        "name = input(\"Enter your name: \")\r\n",
        "country = input(\"Enter your country: \")\r\n",
        "\r\n",
        "message = intro(name, country)\r\n",
        "print(message)\r\n"
      ],
      "execution_count": 51,
      "outputs": [
        {
          "output_type": "stream",
          "text": [
            "Enter your name: Rafsan\n",
            "Enter your country: Bangladesh\n",
            "Hi! My name is Rafsan. I am from Bangladesh.\n"
          ],
          "name": "stdout"
        }
      ]
    },
    {
      "cell_type": "markdown",
      "metadata": {
        "id": "sTXjP8ar8D1L"
      },
      "source": [
        "# Great!\r\n",
        "\r\n",
        "# We are done with our intro!\r\n",
        "\r\n",
        "To summerize, we learned the following:\r\n",
        "\r\n",
        "*   What is a function\r\n",
        "*   How to use the input function\r\n",
        "*   How to create your own function\r\n",
        "\r\n",
        "\r\n",
        "\r\n",
        "\r\n"
      ]
    },
    {
      "cell_type": "markdown",
      "metadata": {
        "id": "2Mccr_IXd44t"
      },
      "source": [
        "# A mini game!\r\n",
        "It takes 5 minutes to make. Once you are done with the course, you can make it too!"
      ]
    },
    {
      "cell_type": "markdown",
      "metadata": {
        "id": "RGEoy4Q5eJVh"
      },
      "source": [
        "<img src=\"https://drive.google.com/uc?export=view&id=1mRvZi8MKmDnbMV5Vv_4gXM_-wZtN0XXl\" width=\"400\">\r\n"
      ]
    },
    {
      "cell_type": "markdown",
      "metadata": {
        "id": "P5xNCxFCiF10"
      },
      "source": [
        "Here are the steps for the game:\r\n",
        "\r\n",
        "1. The computer chooses a random number.\r\n",
        "2. We make a guess and enter the number.\r\n",
        "3. If we guess right, we WIN!!\r\n",
        "4. If we guess wrong, the computer tells us if our guess is higher or lower. We can then guess again.\r\n",
        "5. We get 6 tries."
      ]
    },
    {
      "cell_type": "code",
      "metadata": {
        "colab": {
          "base_uri": "https://localhost:8080/"
        },
        "id": "qZmlBOYNdfr4",
        "outputId": "7a61dc2e-9b2a-4d92-e5c3-4d9f5d9a4a42"
      },
      "source": [
        "# Let the computer choose a random number between 1 and 50\r\n",
        "import random\r\n",
        "computer_num = random.randint(1,50)\r\n",
        "\r\n",
        "number_of_tries = 0\r\n",
        "win = False\r\n",
        "\r\n",
        "while number_of_tries < 6:\r\n",
        "\r\n",
        "  player_num = input(\"Take a guess between 1 and 50: \")\r\n",
        "  player_num = int(player_num)\r\n",
        "\r\n",
        "  number_of_tries += 1\r\n",
        "  if player_num == computer_num:\r\n",
        "    print(\"YAYY! You WON!\")\r\n",
        "    win = True\r\n",
        "    break\r\n",
        "\r\n",
        "  if player_num < computer_num:\r\n",
        "    print(\"Your guess is too low.\")\r\n",
        "\r\n",
        "  if player_num > computer_num:\r\n",
        "    print(\"Your guess is too high\")\r\n",
        "\r\n",
        "\r\n",
        "if win == True:\r\n",
        "  print(\"You tried\", number_of_tries, 'times')\r\n",
        "else:\r\n",
        "  print(\"You tried\", number_of_tries, 'times. You LOST!')"
      ],
      "execution_count": 52,
      "outputs": [
        {
          "output_type": "stream",
          "text": [
            "Take a guess between 1 and 50: 25\n",
            "Your guess is too high\n",
            "Take a guess between 1 and 50: 20\n",
            "Your guess is too high\n",
            "Take a guess between 1 and 50: 10\n",
            "Your guess is too high\n",
            "Take a guess between 1 and 50: 5\n",
            "Your guess is too high\n",
            "Take a guess between 1 and 50: 2\n",
            "YAYY! You WON!\n",
            "You tried 5 times\n"
          ],
          "name": "stdout"
        }
      ]
    },
    {
      "cell_type": "code",
      "metadata": {
        "id": "Nk3X5NtbjAbf"
      },
      "source": [
        ""
      ],
      "execution_count": null,
      "outputs": []
    },
    {
      "cell_type": "markdown",
      "metadata": {
        "id": "X5XblTvOoNKE"
      },
      "source": [
        "<img src=\"https://drive.google.com/uc?export=view&id=1bMafohbyz3njf_PpcyrmYXiP-pKAysID\" width=\"400\">  \r\n",
        "<sub><sup><sub><sup>©southpark</sup></sub></sup></sub>"
      ]
    },
    {
      "cell_type": "code",
      "metadata": {
        "id": "IjcJoD8toiBS"
      },
      "source": [
        ""
      ],
      "execution_count": null,
      "outputs": []
    }
  ]
}